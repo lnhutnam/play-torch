{
 "cells": [
  {
   "cell_type": "code",
   "execution_count": 1,
   "metadata": {},
   "outputs": [],
   "source": [
    "import torch\n",
    "import numpy as np"
   ]
  },
  {
   "cell_type": "markdown",
   "metadata": {},
   "source": [
    "## JIT - Just-in-time compiler"
   ]
  },
  {
   "cell_type": "markdown",
   "metadata": {},
   "source": [
    "Eager mode (Prototype, debug, train, experiment) -> (Tracing/ Scripting) -> Script mode (Optimization, other languages, deployment)"
   ]
  },
  {
   "cell_type": "markdown",
   "metadata": {},
   "source": [
    "### Tracing"
   ]
  },
  {
   "cell_type": "code",
   "execution_count": 2,
   "metadata": {},
   "outputs": [],
   "source": [
    "def my_function(x):\n",
    "    if x.mean() > 1.0:\n",
    "        r = torch.tensor(1.0)\n",
    "    else:\n",
    "        r = torch.tensor(2.0)\n",
    "    return r"
   ]
  },
  {
   "cell_type": "code",
   "execution_count": 3,
   "metadata": {},
   "outputs": [
    {
     "name": "stderr",
     "output_type": "stream",
     "text": [
      "/tmp/ipykernel_173664/1534898225.py:2: TracerWarning: Converting a tensor to a Python boolean might cause the trace to be incorrect. We can't record the data flow of Python values, so this value will be treated as a constant in the future. This means that the trace might not generalize to other inputs!\n",
      "  if x.mean() > 1.0:\n",
      "/tmp/ipykernel_173664/1534898225.py:5: TracerWarning: torch.tensor results are registered as constants in the trace. You can safely ignore this warning if you use this function to create tensors out of constant variables that would be the same every time you call this function. In any other case, this might cause the trace to be incorrect.\n",
      "  r = torch.tensor(2.0)\n"
     ]
    }
   ],
   "source": [
    "ftrace = torch.jit.trace(my_function, (torch.ones(2, 2)))"
   ]
  },
  {
   "cell_type": "code",
   "execution_count": 4,
   "metadata": {},
   "outputs": [
    {
     "data": {
      "text/plain": [
       "graph(%x : Float(2, 2, strides=[2, 1], requires_grad=0, device=cpu)):\n",
       "  %5 : Float(requires_grad=0, device=cpu) = prim::Constant[value={2}]() # /tmp/ipykernel_173664/1534898225.py:3:0\n",
       "  %6 : Device = prim::Constant[value=\"cpu\"]() # /tmp/ipykernel_173664/1534898225.py:3:0\n",
       "  %7 : int = prim::Constant[value=6]() # /tmp/ipykernel_173664/1534898225.py:3:0\n",
       "  %8 : bool = prim::Constant[value=0]() # /tmp/ipykernel_173664/1534898225.py:3:0\n",
       "  %9 : bool = prim::Constant[value=0]() # /tmp/ipykernel_173664/1534898225.py:3:0\n",
       "  %10 : NoneType = prim::Constant()\n",
       "  %11 : Float(requires_grad=0, device=cpu) = aten::to(%5, %6, %7, %8, %9, %10) # /tmp/ipykernel_173664/1534898225.py:3:0\n",
       "  %12 : Float(requires_grad=0, device=cpu) = aten::detach(%11) # /tmp/ipykernel_173664/1534898225.py:3:0\n",
       "  return (%12)"
      ]
     },
     "execution_count": 4,
     "metadata": {},
     "output_type": "execute_result"
    }
   ],
   "source": [
    "ftrace.graph"
   ]
  },
  {
   "cell_type": "markdown",
   "metadata": {},
   "source": [
    "To call the JIT’ed function, just call the `forward()` method:"
   ]
  },
  {
   "cell_type": "code",
   "execution_count": 5,
   "metadata": {},
   "outputs": [],
   "source": [
    "x = torch.ones(2, 2)"
   ]
  },
  {
   "cell_type": "code",
   "execution_count": 7,
   "metadata": {},
   "outputs": [
    {
     "ename": "AttributeError",
     "evalue": "'torch._C.ScriptFunction' object has no attribute 'forward'",
     "output_type": "error",
     "traceback": [
      "\u001b[0;31m---------------------------------------------------------------------------\u001b[0m",
      "\u001b[0;31mAttributeError\u001b[0m                            Traceback (most recent call last)",
      "Cell \u001b[0;32mIn[7], line 1\u001b[0m\n\u001b[0;32m----> 1\u001b[0m \u001b[43mftrace\u001b[49m\u001b[38;5;241;43m.\u001b[39;49m\u001b[43mforward\u001b[49m(x)\n",
      "\u001b[0;31mAttributeError\u001b[0m: 'torch._C.ScriptFunction' object has no attribute 'forward'"
     ]
    }
   ],
   "source": [
    "ftrace.forward(x)"
   ]
  },
  {
   "cell_type": "markdown",
   "metadata": {},
   "source": [
    "### Scripting"
   ]
  },
  {
   "cell_type": "code",
   "execution_count": 8,
   "metadata": {},
   "outputs": [],
   "source": [
    "@torch.jit.script\n",
    "def my_function(x):\n",
    "    if x.mean() > 1.0:\n",
    "        r = torch.tensor(1.0)\n",
    "    else:\n",
    "        r = torch.tensor(2.0)\n",
    "    return r"
   ]
  },
  {
   "cell_type": "code",
   "execution_count": 9,
   "metadata": {},
   "outputs": [
    {
     "data": {
      "text/plain": [
       "graph(%x.1 : Tensor):\n",
       "  %10 : bool = prim::Constant[value=0]()\n",
       "  %2 : NoneType = prim::Constant()\n",
       "  %4 : float = prim::Constant[value=1.]() # /tmp/ipykernel_173664/1734323466.py:3:18\n",
       "  %12 : float = prim::Constant[value=2.]() # /tmp/ipykernel_173664/1734323466.py:6:25\n",
       "  %3 : Tensor = aten::mean(%x.1, %2) # /tmp/ipykernel_173664/1734323466.py:3:7\n",
       "  %5 : Tensor = aten::gt(%3, %4) # /tmp/ipykernel_173664/1734323466.py:3:7\n",
       "  %7 : bool = aten::Bool(%5) # /tmp/ipykernel_173664/1734323466.py:3:7\n",
       "  %r : Tensor = prim::If(%7) # /tmp/ipykernel_173664/1734323466.py:3:4\n",
       "    block0():\n",
       "      %r.1 : Tensor = aten::tensor(%4, %2, %2, %10) # /tmp/ipykernel_173664/1734323466.py:4:12\n",
       "      -> (%r.1)\n",
       "    block1():\n",
       "      %r.3 : Tensor = aten::tensor(%12, %2, %2, %10) # /tmp/ipykernel_173664/1734323466.py:6:12\n",
       "      -> (%r.3)\n",
       "  return (%r)"
      ]
     },
     "execution_count": 9,
     "metadata": {},
     "output_type": "execute_result"
    }
   ],
   "source": [
    "my_function.graph"
   ]
  },
  {
   "cell_type": "code",
   "execution_count": 10,
   "metadata": {},
   "outputs": [
    {
     "data": {
      "text/plain": [
       "torch.jit.ScriptFunction"
      ]
     },
     "execution_count": 10,
     "metadata": {},
     "output_type": "execute_result"
    }
   ],
   "source": [
    "type(my_function)"
   ]
  },
  {
   "cell_type": "code",
   "execution_count": 11,
   "metadata": {},
   "outputs": [],
   "source": [
    "x = torch.ones(2, 2)"
   ]
  },
  {
   "cell_type": "code",
   "execution_count": 12,
   "metadata": {},
   "outputs": [
    {
     "data": {
      "text/plain": [
       "tensor(2.)"
      ]
     },
     "execution_count": 12,
     "metadata": {},
     "output_type": "execute_result"
    }
   ],
   "source": [
    "my_function(x)"
   ]
  },
  {
   "cell_type": "code",
   "execution_count": 13,
   "metadata": {},
   "outputs": [],
   "source": [
    "x = torch.ones(2, 2).add_(1.0)"
   ]
  },
  {
   "cell_type": "code",
   "execution_count": 14,
   "metadata": {},
   "outputs": [
    {
     "data": {
      "text/plain": [
       "tensor(1.)"
      ]
     },
     "execution_count": 14,
     "metadata": {},
     "output_type": "execute_result"
    }
   ],
   "source": [
    "my_function(x) # Control-flow logic was preserved!"
   ]
  }
 ],
 "metadata": {
  "kernelspec": {
   "display_name": "torch",
   "language": "python",
   "name": "python3"
  },
  "language_info": {
   "codemirror_mode": {
    "name": "ipython",
    "version": 3
   },
   "file_extension": ".py",
   "mimetype": "text/x-python",
   "name": "python",
   "nbconvert_exporter": "python",
   "pygments_lexer": "ipython3",
   "version": "3.10.13"
  }
 },
 "nbformat": 4,
 "nbformat_minor": 2
}
