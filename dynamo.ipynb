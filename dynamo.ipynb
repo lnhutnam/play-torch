{
 "cells": [
  {
   "cell_type": "markdown",
   "metadata": {},
   "source": [
    "TorchScript can be limiting in some situations. TorchDynamo can overcome some of the limitations while still allowing unmodified Python code to be compiled;"
   ]
  },
  {
   "cell_type": "markdown",
   "metadata": {},
   "source": [
    "TorchDynamo was introduced as a way to acquire graphs, it uses a feature introduced in CPython 3.6 (PEP 523) where the frame evaluation API was exposed to allow specification of a per-interpreter function pointer to handle the evaluation of frames;"
   ]
  },
  {
   "cell_type": "code",
   "execution_count": null,
   "metadata": {},
   "outputs": [],
   "source": []
  }
 ],
 "metadata": {
  "language_info": {
   "name": "python"
  }
 },
 "nbformat": 4,
 "nbformat_minor": 2
}
